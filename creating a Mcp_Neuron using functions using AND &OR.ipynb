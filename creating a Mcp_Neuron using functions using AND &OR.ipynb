{
 "cells": [
  {
   "cell_type": "code",
   "execution_count": 1,
   "id": "bfb0f5ca",
   "metadata": {},
   "outputs": [
    {
     "name": "stdout",
     "output_type": "stream",
     "text": [
      "AND Output: 0\n",
      "OR Output: 1\n"
     ]
    }
   ],
   "source": [
    "def mcp_and(inputs):\n",
    "    # AND Logic\n",
    "    return 1 if all(inputs) else 0\n",
    "\n",
    "def mcp_or(inputs):\n",
    "    # OR Logic\n",
    "    return 1 if any(inputs) else 0\n",
    "\n",
    "# Example usage:\n",
    "if __name__ == \"__main__\":\n",
    "    # Define input vectors for AND and OR operations\n",
    "    input_vector_and = [1, 0, 1]\n",
    "    input_vector_or = [0, 1, 0]\n",
    "\n",
    "    # Test the AND MCP neuron\n",
    "    result_and = mcp_and(input_vector_and)\n",
    "    print(\"AND Output:\", result_and)  \n",
    "\n",
    "    # Test the OR MCP neuron\n",
    "    result_or = mcp_or(input_vector_or)\n",
    "    print(\"OR Output:\", result_or)   \n"
   ]
  },
  {
   "cell_type": "code",
   "execution_count": null,
   "id": "5e7d30e3",
   "metadata": {},
   "outputs": [],
   "source": []
  },
  {
   "cell_type": "code",
   "execution_count": null,
   "id": "b273eb58",
   "metadata": {},
   "outputs": [],
   "source": []
  }
 ],
 "metadata": {
  "kernelspec": {
   "display_name": "Python 3 (ipykernel)",
   "language": "python",
   "name": "python3"
  },
  "language_info": {
   "codemirror_mode": {
    "name": "ipython",
    "version": 3
   },
   "file_extension": ".py",
   "mimetype": "text/x-python",
   "name": "python",
   "nbconvert_exporter": "python",
   "pygments_lexer": "ipython3",
   "version": "3.9.15"
  }
 },
 "nbformat": 4,
 "nbformat_minor": 5
}
